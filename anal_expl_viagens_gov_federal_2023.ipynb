{
  "nbformat": 4,
  "nbformat_minor": 0,
  "metadata": {
    "colab": {
      "provenance": [],
      "authorship_tag": "ABX9TyPvUExipB3R60QaLCZn/Gln",
      "include_colab_link": true
    },
    "kernelspec": {
      "name": "python3",
      "display_name": "Python 3"
    },
    "language_info": {
      "name": "python"
    }
  },
  "cells": [
    {
      "cell_type": "markdown",
      "metadata": {
        "id": "view-in-github",
        "colab_type": "text"
      },
      "source": [
        "<a href=\"https://colab.research.google.com/github/HamiltonLROliveira/ciencia_dados_puc_rj/blob/main/anal_expl_viagens_gov_federal_2023.ipynb\" target=\"_parent\"><img src=\"https://colab.research.google.com/assets/colab-badge.svg\" alt=\"Open In Colab\"/></a>"
      ]
    },
    {
      "cell_type": "code",
      "execution_count": null,
      "metadata": {
        "id": "bd_kpchQCbj-"
      },
      "outputs": [],
      "source": [
        "# Configuração para não exibir os warnings\n",
        "import warnings\n",
        "warnings.filterwarnings(\"ignore\")\n",
        "\n",
        "# Importação de pacotes\n",
        "import pandas as pd\n",
        "import numpy as np\n",
        "import matplotlib.pyplot as plt\n",
        "import seaborn as sns\n",
        "from matplotlib import cm\n",
        "from datetime import datetime"
      ]
    },
    {
      "cell_type": "code",
      "source": [
        "# Carrega arquivo csv usando Pandas usando uma URL\n",
        "\n",
        "# Informa a URL de importação do dataset\n",
        "url = \"https://raw.githubusercontent.com/HamiltonLROliveira/ciencia_dados_puc_rj/main/2023_Passagem.zip\"\n",
        "\n",
        "# Lê o arquivo utilizando as colunas informadas\n",
        "df_passagens = pd.read_csv(url, sep=';', encoding='latin1' )"
      ],
      "metadata": {
        "id": "JvBGKQDKPz6b"
      },
      "execution_count": null,
      "outputs": []
    },
    {
      "cell_type": "code",
      "source": [
        "df_passagens"
      ],
      "metadata": {
        "id": "eD51dWTtWdot"
      },
      "execution_count": null,
      "outputs": []
    },
    {
      "cell_type": "code",
      "source": [
        "df_passagens.info()"
      ],
      "metadata": {
        "id": "n4dN0OFql5d4"
      },
      "execution_count": null,
      "outputs": []
    },
    {
      "cell_type": "code",
      "source": [
        "df_passagens.head(10)"
      ],
      "metadata": {
        "id": "ZsOFgo9dl5hU"
      },
      "execution_count": null,
      "outputs": []
    },
    {
      "cell_type": "code",
      "source": [
        "\"\"\"\n",
        "Tratamento em todas as colunas para colocar o valor None quando o valor for 'Não informado' ou NaN\n",
        "\"\"\"\n",
        "for c in df_passagens.columns:\n",
        "    df_passagens[c] = df_passagens[c].apply(lambda x: x if x != 'Sem Informação' and pd.notnull(x) else None)"
      ],
      "metadata": {
        "id": "AHwZuE9wl5k8"
      },
      "execution_count": null,
      "outputs": []
    },
    {
      "cell_type": "code",
      "source": [
        "\"\"\"\n",
        "A conversão pode ser feita utilizando o método apply da série que deseja converter.\n",
        "\"\"\"\n",
        "def converter_numero(valor):\n",
        "    try:\n",
        "        return float(valor.replace('.', '').replace(',', '.'))\n",
        "    except:\n",
        "        return np.nan"
      ],
      "metadata": {
        "id": "WMVRrZSem34h"
      },
      "execution_count": null,
      "outputs": []
    },
    {
      "cell_type": "code",
      "source": [
        "df_passagens_1 = df_passagens.copy()\n",
        "df_passagens_1['Valor da passagem'] = \\\n",
        "    df_passagens_1['Valor da passagem'].apply(converter_numero)\n",
        "df_passagens_1['Taxa de serviço'] =  \\\n",
        "    df_passagens_1['Taxa de serviço'].apply(converter_numero)"
      ],
      "metadata": {
        "id": "W5uuoHF7m38d"
      },
      "execution_count": null,
      "outputs": []
    },
    {
      "cell_type": "code",
      "source": [
        "df_passagens_1[['Valor da passagem', 'Taxa de serviço']].head()\n",
        "df_passagens_1.info()"
      ],
      "metadata": {
        "id": "p-iuSyRjl5oR"
      },
      "execution_count": null,
      "outputs": []
    },
    {
      "cell_type": "code",
      "source": [
        "\"\"\"\n",
        "Padronização das strings é interessante para que a ausência\n",
        "ou a presença de acentos não interfira em agrupamentos.\n",
        "\"\"\"\n",
        "\n",
        "from texto import TratamentoTexto\n",
        "def tratar_texto(valor):\n",
        "    v = valor\n",
        "\n",
        "    # somente realiza o tratamento se o texto não for nulo\n",
        "    if v:\n",
        "        # remove acentuação\n",
        "        v = TratamentoTexto.remover_acentuacao(v)\n",
        "        # converte para letras maiúsculas\n",
        "        v = v.upper()\n",
        "\n",
        "    return v"
      ],
      "metadata": {
        "id": "pnm1Gp41l5rf"
      },
      "execution_count": null,
      "outputs": []
    },
    {
      "cell_type": "code",
      "source": [
        "colunas = ['Meio de transporte',\n",
        "       'País - Origem ida', 'UF - Origem ida', 'Cidade - Origem ida',\n",
        "       'País - Destino ida', 'UF - Destino ida', 'Cidade - Destino ida',\n",
        "       'País - Origem volta', 'UF - Origem volta', 'Cidade - Origem volta',\n",
        "       'Pais - Destino volta', 'UF - Destino volta', 'Cidade - Destino volta']\n",
        "\n",
        "# padronize as colunas da lista acima no dataframe df_passagens_1\n",
        "for c in colunas:\n",
        "    df_passagens_1[c] = df_passagens_1[c].apply(tratar_texto)"
      ],
      "metadata": {
        "id": "c7u9tuY_l5vd"
      },
      "execution_count": null,
      "outputs": []
    },
    {
      "cell_type": "code",
      "source": [
        "df_passagens_1.head()"
      ],
      "metadata": {
        "id": "yvZFhT9xpxHY"
      },
      "execution_count": null,
      "outputs": []
    },
    {
      "cell_type": "code",
      "source": [
        "colunas_gb = ['País - Origem ida', 'UF - Origem ida', 'Cidade - Origem ida',\n",
        "       'País - Destino ida', 'UF - Destino ida', 'Cidade - Destino ida']\n",
        "\n",
        "colunas_selecao = ['País - Origem ida', 'UF - Origem ida',\n",
        "                   'Cidade - Origem ida',\n",
        "       'País - Destino ida', 'UF - Destino ida',\n",
        "                   'Cidade - Destino ida', 'Valor da passagem']\n",
        "\n",
        "df_passagens_1[colunas_selecao]\\\n",
        "    .groupby(colunas_gb, as_index=False)\\\n",
        "    .agg(['count', 'mean', 'median'])\\\n",
        "    .sort_values(('Valor da passagem', 'count'), ascending=False)\\\n",
        "    .head(10)"
      ],
      "metadata": {
        "id": "QutU3Z-oqBN6"
      },
      "execution_count": null,
      "outputs": []
    },
    {
      "cell_type": "code",
      "source": [
        "df_passagens_1['Identificador do processo de viagem']\\\n",
        "    .value_counts()\\\n",
        "    .value_counts()"
      ],
      "metadata": {
        "id": "hLU2d67sqBRZ"
      },
      "execution_count": null,
      "outputs": []
    },
    {
      "cell_type": "code",
      "source": [
        "plt.rcParams['figure.figsize'] = (16.5,6)\n",
        "df_passagens_1['Identificador do processo de viagem']\\\n",
        "    .value_counts()\\\n",
        "    .value_counts().plot.bar()\n",
        "plt.xlabel('Quantidade de Trechos por ID de Viagem')\n",
        "plt.ylabel('Quantidade de Registros')\n",
        "#plt.yscale('log')\n",
        "plt.grid(True)\n",
        "plt.show()"
      ],
      "metadata": {
        "id": "yB_fGrTfqTP_"
      },
      "execution_count": null,
      "outputs": []
    },
    {
      "cell_type": "code",
      "source": [
        "grouped = df_passagens_1.groupby('Identificador do processo de viagem').size().to_frame()"
      ],
      "metadata": {
        "id": "srDlH-fOsHA7"
      },
      "execution_count": null,
      "outputs": []
    },
    {
      "cell_type": "code",
      "source": [
        "grouped[grouped[0].sort_values(ascending=True) ==5]"
      ],
      "metadata": {
        "id": "q47pSlIjtA77"
      },
      "execution_count": null,
      "outputs": []
    },
    {
      "cell_type": "code",
      "source": [
        "'''\n",
        "Exemplo de uma viagem com 2 trechos\n",
        "'''\n",
        "df_passagens_1[ df_passagens_1['Identificador do processo de viagem'] == 18352553]"
      ],
      "metadata": {
        "id": "vNp2JSqfqTa7"
      },
      "execution_count": null,
      "outputs": []
    },
    {
      "cell_type": "code",
      "source": [
        "'''\n",
        "Exemplo de uma viagem com 5 trechos\n",
        "'''\n",
        "df_passagens_1[ df_passagens_1['Identificador do processo de viagem'] == 18536121]"
      ],
      "metadata": {
        "id": "GREDyxEUrZXI"
      },
      "execution_count": null,
      "outputs": []
    },
    {
      "cell_type": "code",
      "source": [
        "\"\"\"\n",
        "Vamos criar uma coluna que identifica se o trecho faz parte de uma viagem internacional ou não\n",
        "\"\"\"\n",
        "\n",
        "# vamos marcar trechos que são de origem ou destino internacional\n",
        "df_passagens_1['Trecho Internacional'] = \\\n",
        "    (df_passagens_1['País - Origem ida'] != 'BRASIL') | (df_passagens_1['País - Destino ida'] != 'BRASIL') \\\n",
        "    | ( df_passagens_1['País - Origem volta'].notnull() & ((df_passagens_1['País - Origem volta'] != 'BRASIL') | (df_passagens_1['Pais - Destino volta'] != 'BRASIL'))) \\\n",
        "\n",
        "df_passagens_1[df_passagens_1['Trecho Internacional']].head()"
      ],
      "metadata": {
        "id": "6yAlb6MurZbK"
      },
      "execution_count": null,
      "outputs": []
    },
    {
      "cell_type": "code",
      "source": [
        "# quais viagens possuem ao menos um trecho internacional\n",
        "df_viagens_internacionais = \\\n",
        "    df_passagens_1[['Identificador do processo de viagem','Trecho Internacional']]\\\n",
        "    .groupby('Identificador do processo de viagem', as_index=False)\\\n",
        "    .max()\n",
        "\n",
        "df_viagens_internacionais.head()"
      ],
      "metadata": {
        "id": "cD54wMO_qTdx"
      },
      "execution_count": null,
      "outputs": []
    },
    {
      "cell_type": "code",
      "source": [
        "# quais processos de viagem possuem trechos internacionais\n",
        "df_viagens_internacionais = df_viagens_internacionais.rename(columns={'Trecho Internacional': 'Viagem Internacional'})\n",
        "df_viagens_internacionais.head()"
      ],
      "metadata": {
        "id": "ErB3pFkHqTgm"
      },
      "execution_count": null,
      "outputs": []
    },
    {
      "cell_type": "code",
      "source": [
        "df_passagens_2 = pd.merge(\n",
        "        df_passagens_1, df_viagens_internacionais, how='left',\n",
        "                          left_on='Identificador do processo de viagem', right_on='Identificador do processo de viagem')\n",
        "df_passagens_2.head()"
      ],
      "metadata": {
        "id": "lvmaRjiGwQsG"
      },
      "execution_count": null,
      "outputs": []
    },
    {
      "cell_type": "code",
      "source": [
        "df_passagens_2[(df_passagens_2['Trecho Internacional'] == False) & (df_passagens_2['Viagem Internacional'] == True)]"
      ],
      "metadata": {
        "id": "wT2qjCoKxGNE"
      },
      "execution_count": null,
      "outputs": []
    },
    {
      "cell_type": "code",
      "source": [
        "df_passagens_2[df_passagens_2['Identificador do processo de viagem'] == 19430498]"
      ],
      "metadata": {
        "id": "ulesv3vkwQzt"
      },
      "execution_count": null,
      "outputs": []
    },
    {
      "cell_type": "code",
      "source": [
        "df_passagens_g = df_passagens_2[df_passagens_2['Valor da passagem'] > 0.001]\n",
        "plt.rcParams['figure.figsize'] = 16,10\n",
        "ax = sns.boxplot(y=df_passagens_g['Valor da passagem'], x=df_passagens_g['Trecho Internacional'].apply(lambda x: 'Internacional' if x else 'Nacional'))\n",
        "ax.set_yscale('log')\n",
        "plt.grid(True)\n",
        "plt.show()"
      ],
      "metadata": {
        "id": "TCcl6vnVwQ3v"
      },
      "execution_count": null,
      "outputs": []
    },
    {
      "cell_type": "code",
      "source": [],
      "metadata": {
        "id": "03KK9z4QwQ8I"
      },
      "execution_count": null,
      "outputs": []
    },
    {
      "cell_type": "code",
      "source": [],
      "metadata": {
        "id": "fEJ-nHF7wQ_z"
      },
      "execution_count": null,
      "outputs": []
    },
    {
      "cell_type": "code",
      "source": [],
      "metadata": {
        "id": "_i71yjkuwRDh"
      },
      "execution_count": null,
      "outputs": []
    },
    {
      "cell_type": "code",
      "source": [
        "# Lê o arquivo\n",
        "dataset_pagamento = pd.read_csv(\"../2023_Pagamento.csv\", encoding='latin1', on_bad_lines = 'warn', sep=';')"
      ],
      "metadata": {
        "id": "mwYFASw5PRhI"
      },
      "execution_count": null,
      "outputs": []
    },
    {
      "cell_type": "code",
      "source": [],
      "metadata": {
        "id": "WMI2fesqwP0s"
      },
      "execution_count": null,
      "outputs": []
    },
    {
      "cell_type": "code",
      "source": [],
      "metadata": {
        "id": "ffK7tbeLwP6d"
      },
      "execution_count": null,
      "outputs": []
    },
    {
      "cell_type": "code",
      "source": [
        "# Mostra as dimensões do dataset\n",
        "dataset_pagamento.shape"
      ],
      "metadata": {
        "id": "gMA_vCM2PRqc"
      },
      "execution_count": null,
      "outputs": []
    },
    {
      "cell_type": "code",
      "source": [
        "dataset_pagamento.head(10)"
      ],
      "metadata": {
        "id": "TQkRIcD9PR0Z"
      },
      "execution_count": null,
      "outputs": []
    },
    {
      "cell_type": "code",
      "source": [
        "dataset_pagamento.tail(10)"
      ],
      "metadata": {
        "id": "WJBeFrWnPSBq"
      },
      "execution_count": null,
      "outputs": []
    },
    {
      "cell_type": "code",
      "source": [
        "# Mostra as informações do dataset\n",
        "dataset_pagamento.info()"
      ],
      "metadata": {
        "id": "BXZGTXNLPSHg"
      },
      "execution_count": null,
      "outputs": []
    },
    {
      "cell_type": "code",
      "source": [
        "dataset_pagamento['Identificador do processo de viagem'] = dataset_pagamento['Identificador do processo de viagem'].astype(str)"
      ],
      "metadata": {
        "id": "gsz746y-PSMt"
      },
      "execution_count": null,
      "outputs": []
    },
    {
      "cell_type": "code",
      "source": [
        "def converter_numero(valor):\n",
        "    try:\n",
        "        return float(valor.replace('.', '').replace(',', '.'))\n",
        "    except:\n",
        "        return np.nan"
      ],
      "metadata": {
        "id": "YScmgrEYPSSp"
      },
      "execution_count": null,
      "outputs": []
    },
    {
      "cell_type": "code",
      "source": [
        "dataset_pagamento['Valor'] = dataset_pagamento['Valor'].apply(converter_numero)"
      ],
      "metadata": {
        "id": "r-P9bMClPSZi"
      },
      "execution_count": null,
      "outputs": []
    },
    {
      "cell_type": "code",
      "source": [
        "dataset_pagamento.info()"
      ],
      "metadata": {
        "id": "VONKUiIrR8FZ"
      },
      "execution_count": null,
      "outputs": []
    },
    {
      "cell_type": "code",
      "source": [],
      "metadata": {
        "id": "6EGO46c4C5X5"
      },
      "execution_count": null,
      "outputs": []
    },
    {
      "cell_type": "code",
      "source": [
        "# Mostra as dimensões do dataset\n",
        "dataset_passagem.shape"
      ],
      "metadata": {
        "id": "f5gXDYIfMiK-"
      },
      "execution_count": null,
      "outputs": []
    },
    {
      "cell_type": "code",
      "source": [
        "dataset_passagem.head(10)"
      ],
      "metadata": {
        "id": "LIdaCh-1HzAB"
      },
      "execution_count": null,
      "outputs": []
    },
    {
      "cell_type": "code",
      "source": [
        "dataset_passagem[ dataset_passagem['Identificador do processo de viagem'] == 18345549 ]"
      ],
      "metadata": {
        "id": "_VGxyL0na-YW"
      },
      "execution_count": null,
      "outputs": []
    },
    {
      "cell_type": "code",
      "source": [
        "dataset_trecho[ dataset_trecho['Identificador do processo de viagem '] == 18345549 ]"
      ],
      "metadata": {
        "id": "zBMnA_a-bRj4"
      },
      "execution_count": null,
      "outputs": []
    },
    {
      "cell_type": "code",
      "source": [
        "dataset_trecho.columns"
      ],
      "metadata": {
        "id": "bnZH-0XbbbUh"
      },
      "execution_count": null,
      "outputs": []
    },
    {
      "cell_type": "code",
      "source": [
        "dataset_passagem.tail(10)"
      ],
      "metadata": {
        "id": "zSYPJKToMCR2"
      },
      "execution_count": null,
      "outputs": []
    },
    {
      "cell_type": "code",
      "source": [
        "# Mostra as informações do dataset\n",
        "dataset_passagem.info()"
      ],
      "metadata": {
        "id": "db4iF32sHsE5"
      },
      "execution_count": null,
      "outputs": []
    },
    {
      "cell_type": "code",
      "source": [
        "dataset_passagem['Identificador do processo de viagem'] = dataset_passagem['Identificador do processo de viagem'].astype(str)"
      ],
      "metadata": {
        "id": "tZR_4ITTMy_c"
      },
      "execution_count": null,
      "outputs": []
    },
    {
      "cell_type": "code",
      "source": [
        "dataset_passagem['Valor da passagem'] = dataset_passagem['Valor da passagem'].apply(converter_numero)"
      ],
      "metadata": {
        "id": "ALpR86g7K694"
      },
      "execution_count": null,
      "outputs": []
    },
    {
      "cell_type": "code",
      "source": [
        "def converter_data(dt):\n",
        "    try:\n",
        "        return datetime.strptime(dt, '%d/%m/%Y').date()\n",
        "    except:\n",
        "        return np.nan"
      ],
      "metadata": {
        "id": "OmRSUeJ6NHRM"
      },
      "execution_count": null,
      "outputs": []
    },
    {
      "cell_type": "code",
      "source": [
        "dataset_passagem['Data da emissão/compra'] = dataset_passagem['Data da emissão/compra'].apply(converter_data)"
      ],
      "metadata": {
        "id": "MiPFYvDNIRON"
      },
      "execution_count": null,
      "outputs": []
    },
    {
      "cell_type": "code",
      "source": [
        "dataset_passagem.info()"
      ],
      "metadata": {
        "id": "dgjTYwQINaBF"
      },
      "execution_count": null,
      "outputs": []
    },
    {
      "cell_type": "code",
      "source": [
        "dataset_trecho = pd.read_csv(\"../2023_Trecho.csv\", encoding='latin1', on_bad_lines = 'warn', sep=';')"
      ],
      "metadata": {
        "id": "imdKwnT4PDco"
      },
      "execution_count": null,
      "outputs": []
    },
    {
      "cell_type": "code",
      "source": [
        "# Mostra as dimensões do dataset\n",
        "dataset_trecho.shape"
      ],
      "metadata": {
        "id": "3tTV2snvPF2Y"
      },
      "execution_count": null,
      "outputs": []
    },
    {
      "cell_type": "code",
      "source": [
        "dataset_trecho.head(10)"
      ],
      "metadata": {
        "id": "IjqUUzdsTfQ-"
      },
      "execution_count": null,
      "outputs": []
    },
    {
      "cell_type": "code",
      "source": [
        "dataset_trecho.tail(10)"
      ],
      "metadata": {
        "id": "boj7zLLHTjhu"
      },
      "execution_count": null,
      "outputs": []
    },
    {
      "cell_type": "code",
      "source": [
        "# Mostra as informações do dataset\n",
        "dataset_trecho.info()"
      ],
      "metadata": {
        "id": "OZwStdWoTyAN"
      },
      "execution_count": null,
      "outputs": []
    },
    {
      "cell_type": "code",
      "source": [
        "dataset_trecho['Identificador do processo de viagem '] = dataset_trecho['Identificador do processo de viagem '].astype(str)"
      ],
      "metadata": {
        "id": "GRfnLOXPT_2N"
      },
      "execution_count": null,
      "outputs": []
    },
    {
      "cell_type": "code",
      "source": [
        "dataset_trecho.info()"
      ],
      "metadata": {
        "id": "69kRFpxJUGqs"
      },
      "execution_count": null,
      "outputs": []
    },
    {
      "cell_type": "code",
      "source": [
        "dataset_trecho.head()"
      ],
      "metadata": {
        "id": "XI6-Xw-SUpaF"
      },
      "execution_count": null,
      "outputs": []
    },
    {
      "cell_type": "code",
      "source": [
        "dataset_viagem = pd.read_csv(\"../2023_Viagem.csv\", encoding='latin1', on_bad_lines = 'warn', sep=';')"
      ],
      "metadata": {
        "id": "ibZK9EcQUrvN"
      },
      "execution_count": null,
      "outputs": []
    },
    {
      "cell_type": "code",
      "source": [
        "# Mostra as dimensões do dataset\n",
        "dataset_viagem.shape"
      ],
      "metadata": {
        "id": "_9neYbdIU5cH"
      },
      "execution_count": null,
      "outputs": []
    },
    {
      "cell_type": "code",
      "source": [
        "dataset_viagem.head(10)"
      ],
      "metadata": {
        "id": "eXVUuTSiU_IN"
      },
      "execution_count": null,
      "outputs": []
    },
    {
      "cell_type": "code",
      "source": [
        "dataset_viagem.tail(10)"
      ],
      "metadata": {
        "id": "BWRBm6G-VFfV"
      },
      "execution_count": null,
      "outputs": []
    },
    {
      "cell_type": "code",
      "source": [
        "# Mostra as informações do dataset\n",
        "dataset_viagem.info()"
      ],
      "metadata": {
        "id": "Q1_ArzwJVVmc"
      },
      "execution_count": null,
      "outputs": []
    },
    {
      "cell_type": "code",
      "source": [],
      "metadata": {
        "id": "y054FPO8VgEt"
      },
      "execution_count": null,
      "outputs": []
    }
  ]
}